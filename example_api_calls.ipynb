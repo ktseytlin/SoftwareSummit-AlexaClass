{
 "cells": [
  {
   "cell_type": "markdown",
   "metadata": {},
   "source": [
    "# Example API Calls for BreweryDB and Google Geocode"
   ]
  },
  {
   "cell_type": "markdown",
   "metadata": {},
   "source": [
    "###### Caveat: I wrote this using the urllib2 package because I think it reads easier, especially for those just settling into API fun. If you're planning to do a lot more API calls using Python down the line, I'd highly recommend using the requests package."
   ]
  },
  {
   "cell_type": "code",
   "execution_count": null,
   "metadata": {
    "collapsed": true
   },
   "outputs": [],
   "source": [
    "### Let's import some things first\n",
    "import json\n",
    "import urllib2"
   ]
  },
  {
   "cell_type": "markdown",
   "metadata": {},
   "source": [
    "## Google Geocode API Example"
   ]
  },
  {
   "cell_type": "code",
   "execution_count": null,
   "metadata": {
    "collapsed": false
   },
   "outputs": [],
   "source": [
    "# Here we are going to a test API call for GeoCode API to see the json response\n",
    "# Pass in your API key and your zipcode of choice\n",
    "zipcode = ENTER_YOUR_ZIPCODE\n",
    "geocode_api_key = \"ENTER_GOOGLE_GEOCODE_API_KEY\"\n",
    "geocode_endpoint = \"https://maps.googleapis.com/maps/api/geocode/json?address=\" + str(zipcode) + \"&key=\" + geocode_api_key\n",
    "print geocode_endpoint\n",
    "# Wow! You can also just copy and paste that endpoint into your browser to see the json response!!\n",
    "\n",
    "geocode = json.load(urllib2.urlopen(geocode_endpoint))\n",
    "print json.dumps(geocode, indent=4)"
   ]
  },
  {
   "cell_type": "markdown",
   "metadata": {},
   "source": [
    "### Now we need to find the latitude and longitude in order to pass that into the BreweryDB API. Imagine that this JSON is just a dictionary. We will have to go through the layers to find the exact values and save them to variables."
   ]
  },
  {
   "cell_type": "code",
   "execution_count": null,
   "metadata": {
    "collapsed": false
   },
   "outputs": [],
   "source": [
    "## Continue going through the levels until you get just the variable for latitude or longitude\n",
    "geocode_find_latitude = geocode[\"results\"]\n",
    "print geocode_find_latitude"
   ]
  },
  {
   "cell_type": "markdown",
   "metadata": {},
   "source": [
    "## BreweryDB API Example"
   ]
  },
  {
   "cell_type": "code",
   "execution_count": null,
   "metadata": {
    "collapsed": false
   },
   "outputs": [],
   "source": [
    "# Here we are going to a test API call for BreweryDB API to see the json response\n",
    "# Pass in your API key, and latitude/longitude from the previous API call\n",
    "\n",
    "brewerydb_api_key = \"ENTER_BREWERYDB_KEY_HERE\"\n",
    "lat = ENTER_LATITUDE_HERE\n",
    "lng = ENTER_LONGITUDE_HERE\n",
    "brewerydb_endpoint =\"http://api.brewerydb.com/v2/search/geo/point?lat=\" + str(lat) + \"&lng=\" + str(lng) + \"&key=\" + brewerydb_api_key\n",
    "print brewerydb_endpoint\n",
    "# Wow! You can also just copy and paste that endpoint into your browser to see the json response!!\n",
    "\n",
    "\n",
    "brewerydb = json.load(urllib2.urlopen(brewerydb_endpoint))\n",
    "print json.dumps(brewerydb, indent=4)"
   ]
  },
  {
   "cell_type": "code",
   "execution_count": null,
   "metadata": {
    "collapsed": false
   },
   "outputs": [],
   "source": [
    "# Let's do what we did for the last one and try to find the name of a brewery\n",
    "# We need to do this by traversing the JSON object\n",
    "brewerydb_find_brewery = brewerydb[\"data\"]\n",
    "print brewerydb_find_brewery"
   ]
  },
  {
   "cell_type": "code",
   "execution_count": null,
   "metadata": {
    "collapsed": true
   },
   "outputs": [],
   "source": [
    "# Can you figure out how to find the first X breweries using a loop?"
   ]
  },
  {
   "cell_type": "code",
   "execution_count": null,
   "metadata": {
    "collapsed": true
   },
   "outputs": [],
   "source": []
  }
 ],
 "metadata": {
  "kernelspec": {
   "display_name": "Python 2",
   "language": "python",
   "name": "python2"
  },
  "language_info": {
   "codemirror_mode": {
    "name": "ipython",
    "version": 2
   },
   "file_extension": ".py",
   "mimetype": "text/x-python",
   "name": "python",
   "nbconvert_exporter": "python",
   "pygments_lexer": "ipython2",
   "version": "2.7.11"
  }
 },
 "nbformat": 4,
 "nbformat_minor": 0
}
